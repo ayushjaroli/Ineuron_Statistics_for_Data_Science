{
 "cells": [
  {
   "cell_type": "markdown",
   "id": "b58ce1e7",
   "metadata": {},
   "source": [
    "#### 1. What exactly is the difference between descriptive and inferential statistics?\n"
   ]
  },
  {
   "cell_type": "markdown",
   "id": "ad13256f",
   "metadata": {},
   "source": [
    "##### Discriptive statistics focuses on giving a general visual information about the population or the sample of dataset but Inferential Statistics focuses on making correct predictions and generalizations from the samples of the dataset."
   ]
  },
  {
   "cell_type": "markdown",
   "id": "482d7f7a",
   "metadata": {},
   "source": [
    "#### 2. I'm not sure what is the difference between a sample and a population?\n"
   ]
  },
  {
   "cell_type": "markdown",
   "id": "857107f8",
   "metadata": {},
   "source": [
    "##### A population is the complete amount of data present with us which can be useful in extracting useful conclusions. And a sample is a part of the population useful in prediction related to the dataset. "
   ]
  },
  {
   "cell_type": "markdown",
   "id": "3390f722",
   "metadata": {},
   "source": [
    "#### 3. What distinguishes descriptive statistics from other types of statistics?\n"
   ]
  },
  {
   "cell_type": "markdown",
   "id": "1abe7941",
   "metadata": {},
   "source": [
    "##### There are basically two types of statistics. One is Descriptive and other is Inferential Statistics. Descriptive statistics summarize the characteristics of a data set. Inferential statistics allow you to test a hypothesis or assess whether your data is generalizable to the broader population."
   ]
  },
  {
   "cell_type": "markdown",
   "id": "b5f602b0",
   "metadata": {},
   "source": [
    "#### 4. What is the difference between quantitative and qualitative data?\n"
   ]
  },
  {
   "cell_type": "markdown",
   "id": "b8aa5ecc",
   "metadata": {},
   "source": [
    "##### Quantitative data is a type of data which can be counted or its measurable. And qualitative data is categorical data which is decriptive in nature."
   ]
  },
  {
   "cell_type": "markdown",
   "id": "ce5aa0fb",
   "metadata": {},
   "source": [
    "#### 5. What is the definition of a percentile?"
   ]
  },
  {
   "cell_type": "markdown",
   "id": "05d1b7e5",
   "metadata": {},
   "source": [
    "##### A percentile is a term that describes how a score compares to other scores from the same set."
   ]
  }
 ],
 "metadata": {
  "kernelspec": {
   "display_name": "Python 3 (ipykernel)",
   "language": "python",
   "name": "python3"
  },
  "language_info": {
   "codemirror_mode": {
    "name": "ipython",
    "version": 3
   },
   "file_extension": ".py",
   "mimetype": "text/x-python",
   "name": "python",
   "nbconvert_exporter": "python",
   "pygments_lexer": "ipython3",
   "version": "3.9.7"
  }
 },
 "nbformat": 4,
 "nbformat_minor": 5
}
