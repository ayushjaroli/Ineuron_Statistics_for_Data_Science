{
 "cells": [
  {
   "cell_type": "markdown",
   "id": "1252f1df",
   "metadata": {},
   "source": [
    "#### 1. How can we figure out what the interquartile range is?\n"
   ]
  },
  {
   "cell_type": "markdown",
   "id": "3f18c71c",
   "metadata": {},
   "source": [
    "##### The formula for finding the interquartile range takes the third quartile value and subtracts the first quartile value. Equivalently, the interquartile range is the region between the 75th and 25th percentile (75 – 25 = 50% of the data)."
   ]
  },
  {
   "cell_type": "markdown",
   "id": "5dcf22fc",
   "metadata": {},
   "source": [
    "#### 2. What exactly is the value of the 5-number theory?\n"
   ]
  },
  {
   "cell_type": "markdown",
   "id": "ff2ec75b",
   "metadata": {},
   "source": [
    "##### The five-number summary is a set of descriptive statistics that provides information about a dataset. It consists of the five most important sample percentiles:\n",
    "##### 1)the sample minimum (smallest observation)\n",
    "##### 2)the lower quartile or first quartile\n",
    "##### 3)the median (the middle value)\n",
    "##### 4)the upper quartile or third quartile\n",
    "##### 5)the sample maximum (largest observation)"
   ]
  },
  {
   "cell_type": "markdown",
   "id": "3bcc195a",
   "metadata": {},
   "source": [
    "#### 3. What is the relationship between standard deviation and variance?\n"
   ]
  },
  {
   "cell_type": "markdown",
   "id": "e45bda75",
   "metadata": {},
   "source": [
    "##### Standard Deviation is square root of Variance."
   ]
  },
  {
   "cell_type": "markdown",
   "id": "1519aae3",
   "metadata": {},
   "source": [
    "#### 4. What does the difference between variance and standard deviation mean?\n"
   ]
  },
  {
   "cell_type": "markdown",
   "id": "704a0b6b",
   "metadata": {},
   "source": [
    "##### Variance gives the variablity of the data in terms of squares of the values while Standard Deviation gives the actual variability with the mean of the data."
   ]
  },
  {
   "cell_type": "markdown",
   "id": "289ed1ec",
   "metadata": {},
   "source": [
    "#### 5. When is it appropriate to refer to a skewed data distribution?"
   ]
  },
  {
   "cell_type": "markdown",
   "id": "42dd4d02",
   "metadata": {},
   "source": [
    "##### It is appropriate to refer to a skewed data when it transformed into normal distribution curve by various methods such as log transform, square root transform, box cox transform etc."
   ]
  }
 ],
 "metadata": {
  "kernelspec": {
   "display_name": "Python 3 (ipykernel)",
   "language": "python",
   "name": "python3"
  },
  "language_info": {
   "codemirror_mode": {
    "name": "ipython",
    "version": 3
   },
   "file_extension": ".py",
   "mimetype": "text/x-python",
   "name": "python",
   "nbconvert_exporter": "python",
   "pygments_lexer": "ipython3",
   "version": "3.9.7"
  }
 },
 "nbformat": 4,
 "nbformat_minor": 5
}
