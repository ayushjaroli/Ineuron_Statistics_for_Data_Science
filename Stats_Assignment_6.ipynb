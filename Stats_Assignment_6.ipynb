{
 "cells": [
  {
   "cell_type": "markdown",
   "id": "50359ab9",
   "metadata": {},
   "source": [
    "#### 1. What is a Cumulative Distribution Function, and how does it work?\n"
   ]
  },
  {
   "cell_type": "markdown",
   "id": "2d2ba5c5",
   "metadata": {},
   "source": [
    "##### The cumulative distribution function is used to describe the probability distribution of random variables. It can be used to describe the probability for a discrete, continuous or mixed variable. It is obtained by summing up the probability density function and getting the cumulative probability for a random variable."
   ]
  },
  {
   "cell_type": "markdown",
   "id": "b649f247",
   "metadata": {},
   "source": [
    "#### 2. When should we use a t-test vs a z-test?\n"
   ]
  },
  {
   "cell_type": "markdown",
   "id": "e6ee0d8e",
   "metadata": {},
   "source": [
    "##### A t-test is primarily used for research with limited sample sizes whereas a z-test is deployed for hypothesis testing that requires researchers to look at a population size that's larger than 30."
   ]
  },
  {
   "cell_type": "markdown",
   "id": "595b1f00",
   "metadata": {},
   "source": [
    "#### 3. How do we examine two category characteristics?\n"
   ]
  },
  {
   "cell_type": "markdown",
   "id": "ea514282",
   "metadata": {},
   "source": [
    "##### Two category characterstics can be examined by T-tests."
   ]
  },
  {
   "cell_type": "markdown",
   "id": "76d994ef",
   "metadata": {},
   "source": [
    "#### 4. Explain the concept of Chebyshev's Inequality.\n"
   ]
  },
  {
   "cell_type": "markdown",
   "id": "6757f46d",
   "metadata": {},
   "source": [
    "##### Chebyshev's inequality states that within two standard deviations away from the mean contains 75% of the values, and within three standard deviations away from the mean contains 88.9% of the values. It holds for a wide range of probability distributions, not only the normal distribution"
   ]
  },
  {
   "cell_type": "markdown",
   "id": "6dee36f1",
   "metadata": {},
   "source": [
    "#### 5. Explain the concept of Pareto Distribution."
   ]
  },
  {
   "cell_type": "markdown",
   "id": "18372829",
   "metadata": {},
   "source": [
    "##### The Pareto principle, also known as the 80/20 rule, is a theory maintaining that 80 percent of the output from a given situation or system is determined by 20 percent of the input. The principle doesn't stipulate that all situations will demonstrate that precise ratio – it refers to a typical distribution."
   ]
  }
 ],
 "metadata": {
  "kernelspec": {
   "display_name": "Python 3 (ipykernel)",
   "language": "python",
   "name": "python3"
  },
  "language_info": {
   "codemirror_mode": {
    "name": "ipython",
    "version": 3
   },
   "file_extension": ".py",
   "mimetype": "text/x-python",
   "name": "python",
   "nbconvert_exporter": "python",
   "pygments_lexer": "ipython3",
   "version": "3.9.7"
  }
 },
 "nbformat": 4,
 "nbformat_minor": 5
}
