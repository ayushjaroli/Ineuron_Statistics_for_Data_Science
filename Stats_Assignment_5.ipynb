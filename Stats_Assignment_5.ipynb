{
 "cells": [
  {
   "cell_type": "markdown",
   "id": "92079655",
   "metadata": {},
   "source": [
    "#### 1. How are you going to figure out the average heights of all the trees in Karnataka?\n"
   ]
  },
  {
   "cell_type": "markdown",
   "id": "0baeb0f1",
   "metadata": {},
   "source": [
    "##### We can find average hieghts of all the trees in Karnataka by performing hypothesis testing on different samples taken from random sampling of the population."
   ]
  },
  {
   "cell_type": "markdown",
   "id": "383e8d11",
   "metadata": {},
   "source": [
    "#### 2. What is hypothesis testing and how does it work?\n"
   ]
  },
  {
   "cell_type": "markdown",
   "id": "3f900937",
   "metadata": {},
   "source": [
    "##### Hypothesis testing is an act in statistics whereby an analyst tests an assumption regarding a population parameter. The methodology employed by the analyst depends on the nature of the data used and the reason for the analysis. Hypothesis testing is used to assess the plausibility of a hypothesis by using sample data."
   ]
  },
  {
   "cell_type": "markdown",
   "id": "66c8b2ee",
   "metadata": {},
   "source": [
    "#### 3. Explain the differences between Alpha and Beta errors. Which inaccuracy is the most hazardous?\n"
   ]
  },
  {
   "cell_type": "markdown",
   "id": "661b821c",
   "metadata": {},
   "source": [
    "##### As a consequence of sampling errors, statistical significance tests sometimes yield erroneous outcomes. Specifically, two errors may occur in hypothesis tests: Alpha error occurs when the null hypothesis is erroneously rejected, and beta error occurs when the null hypothesis is wrongly retained.\n",
    "##### Alpha error is considered to be worse or more dangerous than Beta error because to reject what is true is more harmful than keeping the data that is not true."
   ]
  },
  {
   "cell_type": "markdown",
   "id": "eb965a2d",
   "metadata": {},
   "source": [
    "#### 4. What is the significance of the p-value?\n"
   ]
  },
  {
   "cell_type": "markdown",
   "id": "13503869",
   "metadata": {},
   "source": [
    "##### A p-value measures the probability of obtaining the observed results, assuming that the null hypothesis is true. The lower the p-value, the greater the statistical significance of the observed difference. A p-value of 0.05 or lower is generally considered statistically significant."
   ]
  },
  {
   "cell_type": "markdown",
   "id": "53777696",
   "metadata": {},
   "source": [
    "#### 5. What is the Probability Distribution Function and how does it work?"
   ]
  },
  {
   "cell_type": "markdown",
   "id": "fe9de6c7",
   "metadata": {},
   "source": [
    "##### In probability theory, a probability density function (PDF), or density of a continuous random variable, is a function whose value at any given sample (or point) in the sample space (the set of possible values taken by the random variable) can be interpreted as providing a relative likelihood that the value of the random variable would be close to that sample."
   ]
  }
 ],
 "metadata": {
  "kernelspec": {
   "display_name": "Python 3 (ipykernel)",
   "language": "python",
   "name": "python3"
  },
  "language_info": {
   "codemirror_mode": {
    "name": "ipython",
    "version": 3
   },
   "file_extension": ".py",
   "mimetype": "text/x-python",
   "name": "python",
   "nbconvert_exporter": "python",
   "pygments_lexer": "ipython3",
   "version": "3.9.7"
  }
 },
 "nbformat": 4,
 "nbformat_minor": 5
}
